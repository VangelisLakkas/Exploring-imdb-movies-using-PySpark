{
 "cells": [
  {
   "cell_type": "markdown",
   "id": "2e9c9b0c-4e9b-4154-be2e-c67e2f710dfe",
   "metadata": {},
   "source": [
    "# SparkSQL and MLib Assignment\n",
    "\n",
    "## Part A: SparkSQL\n",
    "\n",
    "#### Course: Big Data Systems and Architectures           Master: Business Analytics - Full Time\n",
    "#### Student Name: Lakkas - Pyknis Evangelos              Student ID:f2822306     email: eva.lakkaspyknis@aueb.gr  "
   ]
  },
  {
   "cell_type": "code",
   "execution_count": 120,
   "id": "d90c2e51-2996-4397-8f9d-c2f9a41e6d19",
   "metadata": {},
   "outputs": [],
   "source": [
    "from pyspark.sql import SparkSession"
   ]
  },
  {
   "cell_type": "code",
   "execution_count": 121,
   "id": "94f5ae20-5626-49b3-b0fd-3ec1124dd5e3",
   "metadata": {},
   "outputs": [],
   "source": [
    "from pyspark import SparkContext, SparkConf"
   ]
  },
  {
   "cell_type": "code",
   "execution_count": 122,
   "id": "dc8558c6-82a3-4cb2-a23b-82197fa3fc3a",
   "metadata": {},
   "outputs": [],
   "source": [
    "import pandas as pd"
   ]
  },
  {
   "cell_type": "code",
   "execution_count": 123,
   "id": "41623f38-4db4-4b88-a6d4-690f18e6607c",
   "metadata": {},
   "outputs": [],
   "source": [
    "spark = SparkSession.builder \\\n",
    "    .appName(\"IMDB Analysis\") \\\n",
    "    .getOrCreate()\n"
   ]
  },
  {
   "cell_type": "code",
   "execution_count": 124,
   "id": "3c1a5f19-999e-47f8-9935-d01d9868aa7d",
   "metadata": {},
   "outputs": [],
   "source": [
    "imdb_df = spark.read.json(\"movie.json\")"
   ]
  },
  {
   "cell_type": "code",
   "execution_count": 125,
   "id": "81033b25-fcd8-44b2-90ca-ce2507f37a46",
   "metadata": {},
   "outputs": [],
   "source": [
    "imdb_df.createOrReplaceTempView(\"imdb_data\")"
   ]
  },
  {
   "cell_type": "code",
   "execution_count": 126,
   "id": "79c86496-f723-4cfb-b408-d51a632cbdf0",
   "metadata": {},
   "outputs": [],
   "source": [
    "pandas_imdb = imdb_df.toPandas()"
   ]
  },
  {
   "cell_type": "code",
   "execution_count": 127,
   "id": "12a41e9c-b3c6-4c1b-b491-e33ce8e9c352",
   "metadata": {},
   "outputs": [
    {
     "data": {
      "text/html": [
       "<div>\n",
       "<style scoped>\n",
       "    .dataframe tbody tr th:only-of-type {\n",
       "        vertical-align: middle;\n",
       "    }\n",
       "\n",
       "    .dataframe tbody tr th {\n",
       "        vertical-align: top;\n",
       "    }\n",
       "\n",
       "    .dataframe thead th {\n",
       "        text-align: right;\n",
       "    }\n",
       "</style>\n",
       "<table border=\"1\" class=\"dataframe\">\n",
       "  <thead>\n",
       "    <tr style=\"text-align: right;\">\n",
       "      <th></th>\n",
       "      <th>_corrupt_record</th>\n",
       "      <th>actors</th>\n",
       "      <th>countries</th>\n",
       "      <th>description</th>\n",
       "      <th>directors</th>\n",
       "      <th>genre</th>\n",
       "      <th>imdb_url</th>\n",
       "      <th>img_url</th>\n",
       "      <th>languages</th>\n",
       "      <th>metascore</th>\n",
       "      <th>rating</th>\n",
       "      <th>runtime</th>\n",
       "      <th>tagline</th>\n",
       "      <th>title</th>\n",
       "      <th>users_rating</th>\n",
       "      <th>votes</th>\n",
       "      <th>year</th>\n",
       "    </tr>\n",
       "  </thead>\n",
       "  <tbody>\n",
       "    <tr>\n",
       "      <th>0</th>\n",
       "      <td>[</td>\n",
       "      <td>None</td>\n",
       "      <td>None</td>\n",
       "      <td>None</td>\n",
       "      <td>None</td>\n",
       "      <td>None</td>\n",
       "      <td>None</td>\n",
       "      <td>None</td>\n",
       "      <td>None</td>\n",
       "      <td>None</td>\n",
       "      <td>None</td>\n",
       "      <td>None</td>\n",
       "      <td>None</td>\n",
       "      <td>None</td>\n",
       "      <td>None</td>\n",
       "      <td>None</td>\n",
       "      <td>None</td>\n",
       "    </tr>\n",
       "    <tr>\n",
       "      <th>1</th>\n",
       "      <td>None</td>\n",
       "      <td>[Timothée Chalamet, Elle Fanning, Liev Schreib...</td>\n",
       "      <td>[USA]</td>\n",
       "      <td>A young couple arrives in New York for a weeke...</td>\n",
       "      <td>[Woody Allen]</td>\n",
       "      <td>[Comedy, Romance]</td>\n",
       "      <td>https://www.imdb.com/title/tt7139936/</td>\n",
       "      <td>https://m.media-amazon.com/images/M/MV5BODAwZD...</td>\n",
       "      <td>[English]</td>\n",
       "      <td>44</td>\n",
       "      <td>PG-13</td>\n",
       "      <td>92 min</td>\n",
       "      <td>None</td>\n",
       "      <td>A Rainy Day in New York</td>\n",
       "      <td>6.6</td>\n",
       "      <td>21,903</td>\n",
       "      <td>2019</td>\n",
       "    </tr>\n",
       "    <tr>\n",
       "      <th>2</th>\n",
       "      <td>None</td>\n",
       "      <td>[Emilia Clarke, Hadley Fraser, Sylvia Panacion...</td>\n",
       "      <td>[USA]</td>\n",
       "      <td>Creepy, terrifying chapters from our book of h...</td>\n",
       "      <td>[Michael Escobedo, Kelly Hallmark, 4 more cred...</td>\n",
       "      <td>[Horror, Thriller]</td>\n",
       "      <td>https://www.imdb.com/title/tt12384178/</td>\n",
       "      <td>https://m.media-amazon.com/images/M/MV5BMDI5ZD...</td>\n",
       "      <td>[English]</td>\n",
       "      <td>None</td>\n",
       "      <td>18</td>\n",
       "      <td>91 min</td>\n",
       "      <td>When it comes to murder, they wrote the book</td>\n",
       "      <td>Murder Manual</td>\n",
       "      <td>2.4</td>\n",
       "      <td>192</td>\n",
       "      <td>2020</td>\n",
       "    </tr>\n",
       "  </tbody>\n",
       "</table>\n",
       "</div>"
      ],
      "text/plain": [
       "  _corrupt_record                                             actors  \\\n",
       "0               [                                               None   \n",
       "1            None  [Timothée Chalamet, Elle Fanning, Liev Schreib...   \n",
       "2            None  [Emilia Clarke, Hadley Fraser, Sylvia Panacion...   \n",
       "\n",
       "  countries                                        description  \\\n",
       "0      None                                               None   \n",
       "1     [USA]  A young couple arrives in New York for a weeke...   \n",
       "2     [USA]  Creepy, terrifying chapters from our book of h...   \n",
       "\n",
       "                                           directors               genre  \\\n",
       "0                                               None                None   \n",
       "1                                      [Woody Allen]   [Comedy, Romance]   \n",
       "2  [Michael Escobedo, Kelly Hallmark, 4 more cred...  [Horror, Thriller]   \n",
       "\n",
       "                                 imdb_url  \\\n",
       "0                                    None   \n",
       "1   https://www.imdb.com/title/tt7139936/   \n",
       "2  https://www.imdb.com/title/tt12384178/   \n",
       "\n",
       "                                             img_url  languages metascore  \\\n",
       "0                                               None       None      None   \n",
       "1  https://m.media-amazon.com/images/M/MV5BODAwZD...  [English]        44   \n",
       "2  https://m.media-amazon.com/images/M/MV5BMDI5ZD...  [English]      None   \n",
       "\n",
       "  rating runtime                                       tagline  \\\n",
       "0   None    None                                          None   \n",
       "1  PG-13  92 min                                          None   \n",
       "2     18  91 min  When it comes to murder, they wrote the book   \n",
       "\n",
       "                     title users_rating   votes  year  \n",
       "0                     None         None    None  None  \n",
       "1  A Rainy Day in New York          6.6  21,903  2019  \n",
       "2            Murder Manual          2.4     192  2020  "
      ]
     },
     "execution_count": 127,
     "metadata": {},
     "output_type": "execute_result"
    }
   ],
   "source": [
    "pandas_imdb.head(3)"
   ]
  },
  {
   "cell_type": "markdown",
   "id": "d8de2f80-5495-4c91-b3cf-27401d904a56",
   "metadata": {},
   "source": [
    "## Task A2"
   ]
  },
  {
   "cell_type": "markdown",
   "id": "94b86bcf-00e1-48af-9453-23d5e421a8e1",
   "metadata": {},
   "source": [
    "*showing the movie with the lowest rating that starts with the letter V and has at least 200,000 votes*"
   ]
  },
  {
   "cell_type": "code",
   "execution_count": 128,
   "id": "5eefbe12-08f4-441c-81ae-72555610955a",
   "metadata": {},
   "outputs": [],
   "source": [
    "query1 = \"\"\"\n",
    "    SELECT title, year, users_rating\n",
    "    FROM imdb_data\n",
    "    WHERE title LIKE 'V%' AND votes >= 200000\n",
    "    ORDER BY users_rating\n",
    "    LIMIT 1\"\"\""
   ]
  },
  {
   "cell_type": "code",
   "execution_count": 129,
   "id": "b56bf727-99d7-449a-a614-08be6ca56ea8",
   "metadata": {},
   "outputs": [],
   "source": [
    "v_movie = spark.sql(query1)"
   ]
  },
  {
   "cell_type": "code",
   "execution_count": 130,
   "id": "33aa2bad-bf4b-41c0-8f04-cb7592bbacf9",
   "metadata": {},
   "outputs": [
    {
     "name": "stdout",
     "output_type": "stream",
     "text": [
      "+-----+----+------------+\n",
      "|title|year|users_rating|\n",
      "+-----+----+------------+\n",
      "+-----+----+------------+\n",
      "\n"
     ]
    }
   ],
   "source": [
    "v_movie.show()"
   ]
  },
  {
   "cell_type": "markdown",
   "id": "68530305-e320-4eca-a24e-8b4a687ac42e",
   "metadata": {},
   "source": [
    "Unfortunately there is no movie in the data that starts from V and has at least 200000 votes however if I change\n",
    "the votes criterion the code works fine"
   ]
  },
  {
   "cell_type": "code",
   "execution_count": 131,
   "id": "255eda05-1fe7-407d-8396-7d62d8990093",
   "metadata": {},
   "outputs": [],
   "source": [
    "query11 = \"\"\"\n",
    "    SELECT title, year, users_rating\n",
    "    FROM imdb_data\n",
    "    WHERE title LIKE 'V%' AND votes >= 200\n",
    "    ORDER BY users_rating\n",
    "    LIMIT 1\"\"\""
   ]
  },
  {
   "cell_type": "code",
   "execution_count": 132,
   "id": "a27c0c5a-22f0-4bbb-a29b-ce2675d0c402",
   "metadata": {},
   "outputs": [],
   "source": [
    "v_movie_test = spark.sql(query11)"
   ]
  },
  {
   "cell_type": "code",
   "execution_count": 133,
   "id": "d5ec99dd-b046-4cff-ae5f-bd2ed1b708ca",
   "metadata": {},
   "outputs": [
    {
     "name": "stdout",
     "output_type": "stream",
     "text": [
      "+----------+----+------------+\n",
      "|     title|year|users_rating|\n",
      "+----------+----+------------+\n",
      "|Voyeur.com|2000|         1.8|\n",
      "+----------+----+------------+\n",
      "\n"
     ]
    }
   ],
   "source": [
    "v_movie_test.show()"
   ]
  },
  {
   "cell_type": "code",
   "execution_count": null,
   "id": "a9126629-8771-4aaa-838a-72714e8a601d",
   "metadata": {},
   "outputs": [],
   "source": []
  },
  {
   "cell_type": "markdown",
   "id": "99610903-c53c-4a68-831b-44703e20d75d",
   "metadata": {},
   "source": [
    "*showing the average metascore and average rating for the movies that start with the letter A and have at least 200,000 votes*"
   ]
  },
  {
   "cell_type": "code",
   "execution_count": 137,
   "id": "91d655dd-4f2e-43ad-856a-9d3627639e2d",
   "metadata": {},
   "outputs": [],
   "source": [
    "query2 = \"\"\" SELECT AVG(users_rating) AS avg_users_rating, AVG(metascore) AS avg_metascore\n",
    "    FROM imdb_data\n",
    "    WHERE title LIKE 'A%' AND votes >= 200000 AND users_rating IS NOT NULL AND metascore IS NOT NULL\n",
    "\"\"\""
   ]
  },
  {
   "cell_type": "code",
   "execution_count": 138,
   "id": "8e4b0d99-ce20-4fa5-b05a-42e4573fa4d9",
   "metadata": {},
   "outputs": [],
   "source": [
    "a_movie = spark.sql(query2)"
   ]
  },
  {
   "cell_type": "code",
   "execution_count": 139,
   "id": "1bccf3aa-a855-4945-9736-1edaeedb2021",
   "metadata": {},
   "outputs": [
    {
     "name": "stdout",
     "output_type": "stream",
     "text": [
      "+----------------+-------------+\n",
      "|avg_users_rating|avg_metascore|\n",
      "+----------------+-------------+\n",
      "|            null|         null|\n",
      "+----------------+-------------+\n",
      "\n"
     ]
    }
   ],
   "source": [
    "a_movie.show()"
   ]
  },
  {
   "cell_type": "code",
   "execution_count": 79,
   "id": "ca300801-5d6b-4947-9304-36ea98d9bcb4",
   "metadata": {},
   "outputs": [
    {
     "name": "stdout",
     "output_type": "stream",
     "text": [
      "+--------+\n",
      "|count(1)|\n",
      "+--------+\n",
      "|   52449|\n",
      "+--------+\n",
      "\n"
     ]
    }
   ],
   "source": [
    "spark.sql(\"SELECT COUNT(*) FROM imdb_data WHERE users_rating IS NULL OR metascore IS NULL\").show()"
   ]
  },
  {
   "cell_type": "markdown",
   "id": "729c543f-11d3-4fe1-9e4f-fc56a07f2c53",
   "metadata": {},
   "source": [
    "Question 3\n",
    "* *Title, year, and votes of the movie with the most votes starting with the letter N*"
   ]
  },
  {
   "cell_type": "markdown",
   "id": "ae9275af-8176-4241-a17d-fc0f3a6f47b3",
   "metadata": {},
   "source": [
    "I created a query that selects the wanted columns and filters the data for movies starting with the letter N it orders them based on how many votes they have descending order and displays only the movie on the top of this sorted list"
   ]
  },
  {
   "cell_type": "code",
   "execution_count": 143,
   "id": "7cc5283b-836e-49fe-98dd-06e396462a75",
   "metadata": {},
   "outputs": [],
   "source": [
    "query3 = \"\"\"\n",
    "    SELECT title, year, votes\n",
    "    FROM imdb_data\n",
    "    WHERE title LIKE 'N%'\n",
    "    ORDER BY votes\n",
    "    LIMIT 1\"\"\""
   ]
  },
  {
   "cell_type": "code",
   "execution_count": 144,
   "id": "fb6278ea-3ee2-4d00-b8df-fa8560587a3d",
   "metadata": {},
   "outputs": [],
   "source": [
    "n_movies = spark.sql(query3)"
   ]
  },
  {
   "cell_type": "code",
   "execution_count": 145,
   "id": "a93662c9-9462-4d88-b241-c7ed4c4fc4c0",
   "metadata": {},
   "outputs": [
    {
     "name": "stdout",
     "output_type": "stream",
     "text": [
      "+------------+----+-----+\n",
      "|       title|year|votes|\n",
      "+------------+----+-----+\n",
      "|Night People|1954|1,004|\n",
      "+------------+----+-----+\n",
      "\n"
     ]
    }
   ],
   "source": [
    "n_movies.show()"
   ]
  },
  {
   "cell_type": "code",
   "execution_count": null,
   "id": "c11cef48-2a6a-4e32-96f7-522e4e0ad155",
   "metadata": {},
   "outputs": [],
   "source": []
  },
  {
   "cell_type": "markdown",
   "id": "fd19b7cc-ec63-4b13-8470-91757b563b91",
   "metadata": {},
   "source": [
    "Question 4\n",
    "\n",
    "* *Maximum and Minimum users_rating score for all Bruce Willis movies*"
   ]
  },
  {
   "cell_type": "markdown",
   "id": "817340fb-0042-4103-bbb7-9bac452b6c8f",
   "metadata": {},
   "source": [
    "Here I created a query that selects the minimum and maximum value of the users rating column only for the movie titles in which Bruce Willis has participated this happens with the execution of an embded query and the use of the array_contains function which checks if the actors column of the JSON dataset (which is a list of names/strings) contains Bruce Willis"
   ]
  },
  {
   "cell_type": "code",
   "execution_count": 146,
   "id": "113fcb56-943e-4922-a5ee-216dcd1275e5",
   "metadata": {},
   "outputs": [],
   "source": [
    "query4 = \"\"\"\n",
    "    SELECT MAX(users_rating) AS max_users_rating, MIN(users_rating) AS min_users_rating\n",
    "    FROM imdb_data\n",
    "    WHERE title IN (\n",
    "        SELECT title\n",
    "        FROM imdb_data\n",
    "        WHERE array_contains(actors, 'Bruce Willis')\n",
    "    )\n",
    "\"\"\""
   ]
  },
  {
   "cell_type": "code",
   "execution_count": 147,
   "id": "0886c6e6-e0a6-4270-b944-4579c3bf37ff",
   "metadata": {},
   "outputs": [],
   "source": [
    "bw_movies = spark.sql(query4)"
   ]
  },
  {
   "cell_type": "markdown",
   "id": "37f1bf98-c173-4fea-8b25-436cb85b93cc",
   "metadata": {},
   "source": [
    "The results of the query are displayed below"
   ]
  },
  {
   "cell_type": "code",
   "execution_count": 148,
   "id": "a0d42071-cac4-4966-b084-f5f8c383e2d9",
   "metadata": {},
   "outputs": [
    {
     "name": "stdout",
     "output_type": "stream",
     "text": [
      "+----------------+----------------+\n",
      "|max_users_rating|min_users_rating|\n",
      "+----------------+----------------+\n",
      "|             8.9|             3.6|\n",
      "+----------------+----------------+\n",
      "\n"
     ]
    }
   ],
   "source": [
    "bw_movies.show()"
   ]
  },
  {
   "cell_type": "code",
   "execution_count": null,
   "id": "2a15d1e1-50ce-4f75-a376-20a455c873c6",
   "metadata": {},
   "outputs": [],
   "source": []
  },
  {
   "cell_type": "code",
   "execution_count": null,
   "id": "56642311-146d-4bc1-8f29-444397176916",
   "metadata": {},
   "outputs": [],
   "source": []
  },
  {
   "cell_type": "code",
   "execution_count": null,
   "id": "0a3ec71d-cb89-4342-9edc-b9cd3d33d062",
   "metadata": {},
   "outputs": [],
   "source": []
  },
  {
   "cell_type": "code",
   "execution_count": 86,
   "id": "20617708-1b36-4aed-ad17-a39c31608745",
   "metadata": {},
   "outputs": [],
   "source": [
    "spark.stop()"
   ]
  },
  {
   "cell_type": "code",
   "execution_count": null,
   "id": "d1631492-594c-43e6-8a4b-1448404d94eb",
   "metadata": {},
   "outputs": [],
   "source": []
  }
 ],
 "metadata": {
  "kernelspec": {
   "display_name": "Python 3",
   "language": "python",
   "name": "python3"
  },
  "language_info": {
   "codemirror_mode": {
    "name": "ipython",
    "version": 3
   },
   "file_extension": ".py",
   "mimetype": "text/x-python",
   "name": "python",
   "nbconvert_exporter": "python",
   "pygments_lexer": "ipython3",
   "version": "3.8.8"
  }
 },
 "nbformat": 4,
 "nbformat_minor": 5
}
