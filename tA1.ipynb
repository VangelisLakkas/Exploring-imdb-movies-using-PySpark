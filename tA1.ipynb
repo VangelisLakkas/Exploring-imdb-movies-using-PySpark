{
 "cells": [
  {
   "cell_type": "markdown",
   "id": "3a95d943-38fa-4273-a244-9ab82d3af198",
   "metadata": {},
   "source": [
    "# SparkSQL and MLib Assignment\n",
    "\n",
    "## Part A: SparkSQL\n",
    "\n",
    "#### Course: Big Data Systems and Architectures           Master: Business Analytics - Full Time\n",
    "#### Student Name: Lakkas - Pyknis Evangelos              Student ID:f2822306     email: eva.lakkaspyknis@aueb.gr  "
   ]
  },
  {
   "cell_type": "code",
   "execution_count": 61,
   "id": "ae3c7583-acd4-472e-a0b0-384b7dd4602f",
   "metadata": {},
   "outputs": [],
   "source": [
    "from pyspark.sql import SparkSession"
   ]
  },
  {
   "cell_type": "code",
   "execution_count": 62,
   "id": "634b9208-c3c2-4d19-b65a-d11deac82336",
   "metadata": {},
   "outputs": [],
   "source": [
    "from pyspark import SparkContext, SparkConf\n",
    "import pandas as pd"
   ]
  },
  {
   "cell_type": "code",
   "execution_count": 63,
   "id": "72182b78-e60b-443c-b48e-e614c2bd23bb",
   "metadata": {},
   "outputs": [],
   "source": [
    "spark = SparkSession.builder \\\n",
    "    .appName(\"IMDB Analysis\") \\\n",
    "    .getOrCreate()\n"
   ]
  },
  {
   "cell_type": "code",
   "execution_count": 64,
   "id": "6f91e841-5cdd-4bc3-90fe-07babf0c429b",
   "metadata": {},
   "outputs": [],
   "source": [
    "imdb_df = spark.read.json(\"movie.json\")"
   ]
  },
  {
   "cell_type": "code",
   "execution_count": 65,
   "id": "9ec5c323-325e-4e5a-8721-c91f9eb00b15",
   "metadata": {},
   "outputs": [],
   "source": [
    "imdb_df.createOrReplaceTempView(\"imdb_data\")"
   ]
  },
  {
   "cell_type": "code",
   "execution_count": 8,
   "id": "db817198-0d14-45d9-8cc8-8dcf98e73d1f",
   "metadata": {},
   "outputs": [
    {
     "name": "stdout",
     "output_type": "stream",
     "text": [
      "+---------------+--------------------+--------------------+--------------------+--------------------+--------------------+--------------------+--------------------+--------------------+---------+------+-------+--------------------+--------------------+------------+---------+----+\n",
      "|_corrupt_record|              actors|           countries|         description|           directors|               genre|            imdb_url|             img_url|           languages|metascore|rating|runtime|             tagline|               title|users_rating|    votes|year|\n",
      "+---------------+--------------------+--------------------+--------------------+--------------------+--------------------+--------------------+--------------------+--------------------+---------+------+-------+--------------------+--------------------+------------+---------+----+\n",
      "|              [|                null|                null|                null|                null|                null|                null|                null|                null|     null|  null|   null|                null|                null|        null|     null|null|\n",
      "|           null|[Timothée Chalame...|               [USA]|A young couple ar...|       [Woody Allen]|   [Comedy, Romance]|https://www.imdb....|https://m.media-a...|           [English]|       44| PG-13| 92 min|                null|A Rainy Day in Ne...|         6.6|   21,903|2019|\n",
      "|           null|[Emilia Clarke, H...|               [USA]|Creepy, terrifyin...|[Michael Escobedo...|  [Horror, Thriller]|https://www.imdb....|https://m.media-a...|           [English]|     null|    18| 91 min|When it comes to ...|       Murder Manual|         2.4|      192|2020|\n",
      "|           null|[Matthew Broderic...|               [USA]|A high school wis...|       [John Hughes]|            [Comedy]|https://www.imdb....|https://m.media-a...|   [English, German]|       61| PG-13|103 min|Because life is t...|Ferris Bueller's ...|         7.8|  308,847|1986|\n",
      "|           null|[Robert De Niro, ...|               [USA]|A convicted rapis...|   [Martin Scorsese]|   [Crime, Thriller]|https://www.imdb....|https://m.media-a...|           [English]|       73|     R|128 min|There is nothing ...|           Cape Fear|         7.3|  165,628|1991|\n",
      "|           null|[Lindsay Lohan, R...|       [USA, Canada]|Cady Heron is a h...|       [Mark Waters]|            [Comedy]|https://www.imdb....|https://m.media-a...|[English, German,...|       66| PG-13| 97 min|Survival of the R...|          Mean Girls|         7.0|  320,492|2004|\n",
      "|           null|[Sophia Lillis, S...|[Canada, Ireland,...|A long time ago i...|        [Oz Perkins]|[Fantasy, Horror,...|https://www.imdb....|https://m.media-a...|           [English]|       64| PG-13| 87 min|  Follow the crumbs.|     Gretel & Hansel|         5.3|   15,051|2020|\n",
      "|           null|[Chris Pratt, Bry...|               [USA]|When the island's...|       [J.A. Bayona]|[Action, Adventur...|https://www.imdb....|https://m.media-a...|  [English, Russian]|       51| PG-13|128 min|Off the Island. I...|Jurassic World: F...|         6.2|  250,190|2018|\n",
      "|           null|[Robert Downey Jr...|               [USA]|Earth's mightiest...|       [Joss Whedon]|[Action, Adventur...|https://www.imdb....|https://m.media-a...|[English, Russian...|       69| PG-13|143 min|  Avengers Assemble!|        The Avengers|         8.0|1,233,746|2012|\n",
      "|           null|[Matt Damon, Ben ...|               [USA]|Will Hunting, a j...|      [Gus Van Sant]|    [Drama, Romance]|https://www.imdb....|https://m.media-a...|           [English]|       70|     R|126 min|Wildly charismati...|   Good Will Hunting|         8.3|  826,970|1997|\n",
      "|           null|[Keir Dullea, Gar...|           [UK, USA]|After discovering...|   [Stanley Kubrick]| [Adventure, Sci-Fi]|https://www.imdb....|https://m.media-a...|  [English, Russian]|       84|     G|149 min|50 Years Ago One ...|2001: A Space Ody...|         8.3|  580,491|1968|\n",
      "|           null|[Al Pacino, Steve...|               [USA]|In 1980 Miami, a ...|    [Brian De Palma]|      [Crime, Drama]|https://www.imdb....|https://m.media-a...|  [English, Spanish]|       65|     R|170 min|The world is your...|            Scarface|         8.3|  712,283|1983|\n",
      "|           null|[Jason London, Jo...|               [USA]|The adventures of...| [Richard Linklater]|            [Comedy]|https://www.imdb....|https://m.media-a...|           [English]|       78|     R|102 min|         Weed rules.|  Dazed and Confused|         7.6|  158,876|1993|\n",
      "|           null|[John Ralston, Th...|[Canada, Germany,...|A young genius ac...|[Anthony Scott Bu...|[Drama, Horror, M...|https://www.imdb....|https://m.media-a...|           [English]|       45| PG-13| 90 min|Houses Are As Hau...|           Our House|         5.3|    5,563|2018|\n",
      "|           null|[Matthew Modine, ...|           [UK, USA]|A pragmatic U.S. ...|   [Stanley Kubrick]|        [Drama, War]|https://www.imdb....|https://m.media-a...|[English, Vietnam...|       76|     R|116 min|Acclaimed by crit...|   Full Metal Jacket|         8.3|  650,539|1987|\n",
      "|           null|[Daniel Radcliffe...|  [UK, USA, Germany]|An ancient prophe...|    [Chris Columbus]|[Adventure, Famil...|https://www.imdb....|https://m.media-a...|           [English]|       63|    PG|161 min|\"Dobby has come t...|Harry Potter and ...|         7.4|  529,173|2002|\n",
      "|           null|[Clint Eastwood, ...|      [Germany, USA]|Disgruntled Korea...|    [Clint Eastwood]|             [Drama]|https://www.imdb....|https://m.media-a...|    [English, Hmong]|       72|     R|116 min|                null|         Gran Torino|         8.1|  701,410|2008|\n",
      "|           null|[Frances McDorman...|           [UK, USA]|A mother personal...|   [Martin McDonagh]|[Comedy, Crime, D...|https://www.imdb....|https://m.media-a...|           [English]|       88|     R|115 min|                null|Three Billboards ...|         8.2|  401,685|2017|\n",
      "|           null|[Paul Sanchez, La...|               [USA]|A FedEx executive...|   [Robert Zemeckis]|[Adventure, Drama...|https://www.imdb....|https://m.media-a...|  [English, Russian]|       73| PG-13|143 min|At the edge of th...|           Cast Away|         7.8|  504,512|2000|\n",
      "|           null|[Ewan McGregor, N...|               [USA]|Three years into ...|      [George Lucas]|[Action, Adventur...|https://www.imdb....|https://m.media-a...|           [English]|       68| PG-13|140 min|The saga is compl...|Star Wars: Episod...|         7.5|  688,367|2005|\n",
      "+---------------+--------------------+--------------------+--------------------+--------------------+--------------------+--------------------+--------------------+--------------------+---------+------+-------+--------------------+--------------------+------------+---------+----+\n",
      "only showing top 20 rows\n",
      "\n"
     ]
    }
   ],
   "source": [
    "spark.sql(\"SELECT * FROM imdb_data\").show()"
   ]
  },
  {
   "cell_type": "code",
   "execution_count": 66,
   "id": "74b96238-fe3b-4ae9-b15b-cc7cc4880a9b",
   "metadata": {},
   "outputs": [],
   "source": [
    "pandas_imdb = imdb_df.toPandas()\n"
   ]
  },
  {
   "cell_type": "code",
   "execution_count": 67,
   "id": "51628db6-4f0b-4813-ac04-d05750beb912",
   "metadata": {},
   "outputs": [],
   "source": []
  },
  {
   "cell_type": "code",
   "execution_count": 11,
   "id": "9392f89e-dfd8-467c-878b-29e69b58694f",
   "metadata": {},
   "outputs": [
    {
     "data": {
      "text/html": [
       "<div>\n",
       "<style scoped>\n",
       "    .dataframe tbody tr th:only-of-type {\n",
       "        vertical-align: middle;\n",
       "    }\n",
       "\n",
       "    .dataframe tbody tr th {\n",
       "        vertical-align: top;\n",
       "    }\n",
       "\n",
       "    .dataframe thead th {\n",
       "        text-align: right;\n",
       "    }\n",
       "</style>\n",
       "<table border=\"1\" class=\"dataframe\">\n",
       "  <thead>\n",
       "    <tr style=\"text-align: right;\">\n",
       "      <th></th>\n",
       "      <th>_corrupt_record</th>\n",
       "      <th>actors</th>\n",
       "      <th>countries</th>\n",
       "      <th>description</th>\n",
       "      <th>directors</th>\n",
       "      <th>genre</th>\n",
       "      <th>imdb_url</th>\n",
       "      <th>img_url</th>\n",
       "      <th>languages</th>\n",
       "      <th>metascore</th>\n",
       "      <th>rating</th>\n",
       "      <th>runtime</th>\n",
       "      <th>tagline</th>\n",
       "      <th>title</th>\n",
       "      <th>users_rating</th>\n",
       "      <th>votes</th>\n",
       "      <th>year</th>\n",
       "    </tr>\n",
       "  </thead>\n",
       "  <tbody>\n",
       "    <tr>\n",
       "      <th>0</th>\n",
       "      <td>[</td>\n",
       "      <td>None</td>\n",
       "      <td>None</td>\n",
       "      <td>None</td>\n",
       "      <td>None</td>\n",
       "      <td>None</td>\n",
       "      <td>None</td>\n",
       "      <td>None</td>\n",
       "      <td>None</td>\n",
       "      <td>None</td>\n",
       "      <td>None</td>\n",
       "      <td>None</td>\n",
       "      <td>None</td>\n",
       "      <td>None</td>\n",
       "      <td>None</td>\n",
       "      <td>None</td>\n",
       "      <td>None</td>\n",
       "    </tr>\n",
       "    <tr>\n",
       "      <th>1</th>\n",
       "      <td>None</td>\n",
       "      <td>[Timothée Chalamet, Elle Fanning, Liev Schreib...</td>\n",
       "      <td>[USA]</td>\n",
       "      <td>A young couple arrives in New York for a weeke...</td>\n",
       "      <td>[Woody Allen]</td>\n",
       "      <td>[Comedy, Romance]</td>\n",
       "      <td>https://www.imdb.com/title/tt7139936/</td>\n",
       "      <td>https://m.media-amazon.com/images/M/MV5BODAwZD...</td>\n",
       "      <td>[English]</td>\n",
       "      <td>44</td>\n",
       "      <td>PG-13</td>\n",
       "      <td>92 min</td>\n",
       "      <td>None</td>\n",
       "      <td>A Rainy Day in New York</td>\n",
       "      <td>6.6</td>\n",
       "      <td>21,903</td>\n",
       "      <td>2019</td>\n",
       "    </tr>\n",
       "    <tr>\n",
       "      <th>2</th>\n",
       "      <td>None</td>\n",
       "      <td>[Emilia Clarke, Hadley Fraser, Sylvia Panacion...</td>\n",
       "      <td>[USA]</td>\n",
       "      <td>Creepy, terrifying chapters from our book of h...</td>\n",
       "      <td>[Michael Escobedo, Kelly Hallmark, 4 more cred...</td>\n",
       "      <td>[Horror, Thriller]</td>\n",
       "      <td>https://www.imdb.com/title/tt12384178/</td>\n",
       "      <td>https://m.media-amazon.com/images/M/MV5BMDI5ZD...</td>\n",
       "      <td>[English]</td>\n",
       "      <td>None</td>\n",
       "      <td>18</td>\n",
       "      <td>91 min</td>\n",
       "      <td>When it comes to murder, they wrote the book</td>\n",
       "      <td>Murder Manual</td>\n",
       "      <td>2.4</td>\n",
       "      <td>192</td>\n",
       "      <td>2020</td>\n",
       "    </tr>\n",
       "    <tr>\n",
       "      <th>3</th>\n",
       "      <td>None</td>\n",
       "      <td>[Matthew Broderick, Alan Ruck, Mia Sara, Jeffr...</td>\n",
       "      <td>[USA]</td>\n",
       "      <td>A high school wise guy is determined to have a...</td>\n",
       "      <td>[John Hughes]</td>\n",
       "      <td>[Comedy]</td>\n",
       "      <td>https://www.imdb.com/title/tt0091042/</td>\n",
       "      <td>https://m.media-amazon.com/images/M/MV5BMDA0Nj...</td>\n",
       "      <td>[English, German]</td>\n",
       "      <td>61</td>\n",
       "      <td>PG-13</td>\n",
       "      <td>103 min</td>\n",
       "      <td>Because life is too beautiful a thing to waste.</td>\n",
       "      <td>Ferris Bueller's Day Off</td>\n",
       "      <td>7.8</td>\n",
       "      <td>308,847</td>\n",
       "      <td>1986</td>\n",
       "    </tr>\n",
       "    <tr>\n",
       "      <th>4</th>\n",
       "      <td>None</td>\n",
       "      <td>[Robert De Niro, Nick Nolte, Jessica Lange, Ju...</td>\n",
       "      <td>[USA]</td>\n",
       "      <td>A convicted rapist, released from prison after...</td>\n",
       "      <td>[Martin Scorsese]</td>\n",
       "      <td>[Crime, Thriller]</td>\n",
       "      <td>https://www.imdb.com/title/tt0101540/</td>\n",
       "      <td>https://m.media-amazon.com/images/M/MV5BNjdhNz...</td>\n",
       "      <td>[English]</td>\n",
       "      <td>73</td>\n",
       "      <td>R</td>\n",
       "      <td>128 min</td>\n",
       "      <td>There is nothing in the dark that isn't there ...</td>\n",
       "      <td>Cape Fear</td>\n",
       "      <td>7.3</td>\n",
       "      <td>165,628</td>\n",
       "      <td>1991</td>\n",
       "    </tr>\n",
       "    <tr>\n",
       "      <th>5</th>\n",
       "      <td>None</td>\n",
       "      <td>[Lindsay Lohan, Rachel McAdams, Tina Fey, Tim ...</td>\n",
       "      <td>[USA, Canada]</td>\n",
       "      <td>Cady Heron is a hit with The Plastics, the A-l...</td>\n",
       "      <td>[Mark Waters]</td>\n",
       "      <td>[Comedy]</td>\n",
       "      <td>https://www.imdb.com/title/tt0377092/</td>\n",
       "      <td>https://m.media-amazon.com/images/M/MV5BMjE1MD...</td>\n",
       "      <td>[English, German, Vietnamese, Swahili]</td>\n",
       "      <td>66</td>\n",
       "      <td>PG-13</td>\n",
       "      <td>97 min</td>\n",
       "      <td>Survival of the Ruthless</td>\n",
       "      <td>Mean Girls</td>\n",
       "      <td>7.0</td>\n",
       "      <td>320,492</td>\n",
       "      <td>2004</td>\n",
       "    </tr>\n",
       "    <tr>\n",
       "      <th>6</th>\n",
       "      <td>None</td>\n",
       "      <td>[Sophia Lillis, Samuel Leakey, Alice Krige, Je...</td>\n",
       "      <td>[Canada, Ireland, USA, South Africa]</td>\n",
       "      <td>A long time ago in a distant fairy tale countr...</td>\n",
       "      <td>[Oz Perkins]</td>\n",
       "      <td>[Fantasy, Horror, Mystery, Thriller]</td>\n",
       "      <td>https://www.imdb.com/title/tt9086228/</td>\n",
       "      <td>https://m.media-amazon.com/images/M/MV5BOTIyYW...</td>\n",
       "      <td>[English]</td>\n",
       "      <td>64</td>\n",
       "      <td>PG-13</td>\n",
       "      <td>87 min</td>\n",
       "      <td>Follow the crumbs.</td>\n",
       "      <td>Gretel &amp; Hansel</td>\n",
       "      <td>5.3</td>\n",
       "      <td>15,051</td>\n",
       "      <td>2020</td>\n",
       "    </tr>\n",
       "    <tr>\n",
       "      <th>7</th>\n",
       "      <td>None</td>\n",
       "      <td>[Chris Pratt, Bryce Dallas Howard, Rafe Spall,...</td>\n",
       "      <td>[USA]</td>\n",
       "      <td>When the island's dormant volcano begins roari...</td>\n",
       "      <td>[J.A. Bayona]</td>\n",
       "      <td>[Action, Adventure, Sci-Fi]</td>\n",
       "      <td>https://www.imdb.com/title/tt4881806/</td>\n",
       "      <td>https://m.media-amazon.com/images/M/MV5BNzIxMj...</td>\n",
       "      <td>[English, Russian]</td>\n",
       "      <td>51</td>\n",
       "      <td>PG-13</td>\n",
       "      <td>128 min</td>\n",
       "      <td>Off the Island. Into your Home.</td>\n",
       "      <td>Jurassic World: Fallen Kingdom</td>\n",
       "      <td>6.2</td>\n",
       "      <td>250,190</td>\n",
       "      <td>2018</td>\n",
       "    </tr>\n",
       "  </tbody>\n",
       "</table>\n",
       "</div>"
      ],
      "text/plain": [
       "  _corrupt_record                                             actors  \\\n",
       "0               [                                               None   \n",
       "1            None  [Timothée Chalamet, Elle Fanning, Liev Schreib...   \n",
       "2            None  [Emilia Clarke, Hadley Fraser, Sylvia Panacion...   \n",
       "3            None  [Matthew Broderick, Alan Ruck, Mia Sara, Jeffr...   \n",
       "4            None  [Robert De Niro, Nick Nolte, Jessica Lange, Ju...   \n",
       "5            None  [Lindsay Lohan, Rachel McAdams, Tina Fey, Tim ...   \n",
       "6            None  [Sophia Lillis, Samuel Leakey, Alice Krige, Je...   \n",
       "7            None  [Chris Pratt, Bryce Dallas Howard, Rafe Spall,...   \n",
       "\n",
       "                              countries  \\\n",
       "0                                  None   \n",
       "1                                 [USA]   \n",
       "2                                 [USA]   \n",
       "3                                 [USA]   \n",
       "4                                 [USA]   \n",
       "5                         [USA, Canada]   \n",
       "6  [Canada, Ireland, USA, South Africa]   \n",
       "7                                 [USA]   \n",
       "\n",
       "                                         description  \\\n",
       "0                                               None   \n",
       "1  A young couple arrives in New York for a weeke...   \n",
       "2  Creepy, terrifying chapters from our book of h...   \n",
       "3  A high school wise guy is determined to have a...   \n",
       "4  A convicted rapist, released from prison after...   \n",
       "5  Cady Heron is a hit with The Plastics, the A-l...   \n",
       "6  A long time ago in a distant fairy tale countr...   \n",
       "7  When the island's dormant volcano begins roari...   \n",
       "\n",
       "                                           directors  \\\n",
       "0                                               None   \n",
       "1                                      [Woody Allen]   \n",
       "2  [Michael Escobedo, Kelly Hallmark, 4 more cred...   \n",
       "3                                      [John Hughes]   \n",
       "4                                  [Martin Scorsese]   \n",
       "5                                      [Mark Waters]   \n",
       "6                                       [Oz Perkins]   \n",
       "7                                      [J.A. Bayona]   \n",
       "\n",
       "                                  genre  \\\n",
       "0                                  None   \n",
       "1                     [Comedy, Romance]   \n",
       "2                    [Horror, Thriller]   \n",
       "3                              [Comedy]   \n",
       "4                     [Crime, Thriller]   \n",
       "5                              [Comedy]   \n",
       "6  [Fantasy, Horror, Mystery, Thriller]   \n",
       "7           [Action, Adventure, Sci-Fi]   \n",
       "\n",
       "                                 imdb_url  \\\n",
       "0                                    None   \n",
       "1   https://www.imdb.com/title/tt7139936/   \n",
       "2  https://www.imdb.com/title/tt12384178/   \n",
       "3   https://www.imdb.com/title/tt0091042/   \n",
       "4   https://www.imdb.com/title/tt0101540/   \n",
       "5   https://www.imdb.com/title/tt0377092/   \n",
       "6   https://www.imdb.com/title/tt9086228/   \n",
       "7   https://www.imdb.com/title/tt4881806/   \n",
       "\n",
       "                                             img_url  \\\n",
       "0                                               None   \n",
       "1  https://m.media-amazon.com/images/M/MV5BODAwZD...   \n",
       "2  https://m.media-amazon.com/images/M/MV5BMDI5ZD...   \n",
       "3  https://m.media-amazon.com/images/M/MV5BMDA0Nj...   \n",
       "4  https://m.media-amazon.com/images/M/MV5BNjdhNz...   \n",
       "5  https://m.media-amazon.com/images/M/MV5BMjE1MD...   \n",
       "6  https://m.media-amazon.com/images/M/MV5BOTIyYW...   \n",
       "7  https://m.media-amazon.com/images/M/MV5BNzIxMj...   \n",
       "\n",
       "                                languages metascore rating  runtime  \\\n",
       "0                                    None      None   None     None   \n",
       "1                               [English]        44  PG-13   92 min   \n",
       "2                               [English]      None     18   91 min   \n",
       "3                       [English, German]        61  PG-13  103 min   \n",
       "4                               [English]        73      R  128 min   \n",
       "5  [English, German, Vietnamese, Swahili]        66  PG-13   97 min   \n",
       "6                               [English]        64  PG-13   87 min   \n",
       "7                      [English, Russian]        51  PG-13  128 min   \n",
       "\n",
       "                                             tagline  \\\n",
       "0                                               None   \n",
       "1                                               None   \n",
       "2       When it comes to murder, they wrote the book   \n",
       "3    Because life is too beautiful a thing to waste.   \n",
       "4  There is nothing in the dark that isn't there ...   \n",
       "5                           Survival of the Ruthless   \n",
       "6                                 Follow the crumbs.   \n",
       "7                    Off the Island. Into your Home.   \n",
       "\n",
       "                            title users_rating    votes  year  \n",
       "0                            None         None     None  None  \n",
       "1         A Rainy Day in New York          6.6   21,903  2019  \n",
       "2                   Murder Manual          2.4      192  2020  \n",
       "3        Ferris Bueller's Day Off          7.8  308,847  1986  \n",
       "4                       Cape Fear          7.3  165,628  1991  \n",
       "5                      Mean Girls          7.0  320,492  2004  \n",
       "6                 Gretel & Hansel          5.3   15,051  2020  \n",
       "7  Jurassic World: Fallen Kingdom          6.2  250,190  2018  "
      ]
     },
     "execution_count": 11,
     "metadata": {},
     "output_type": "execute_result"
    }
   ],
   "source": [
    "pandas_imdb.head(8)"
   ]
  },
  {
   "cell_type": "markdown",
   "id": "064c9cd2-8785-43af-b9df-7b3f1a3a2931",
   "metadata": {},
   "source": [
    "## Task A1\n",
    "*counting the number of movies/records in the database*"
   ]
  },
  {
   "cell_type": "code",
   "execution_count": 68,
   "id": "85dd8454-7b03-40cd-986e-86c045ba98af",
   "metadata": {},
   "outputs": [],
   "source": [
    "movie_count = spark.sql(\"SELECT COUNT(*) AS movie_count FROM imdb_data\").collect()[0]['movie_count']"
   ]
  },
  {
   "cell_type": "code",
   "execution_count": 69,
   "id": "349193f7-e54d-4160-b664-1a48be057999",
   "metadata": {},
   "outputs": [
    {
     "name": "stdout",
     "output_type": "stream",
     "text": [
      "Number of movies in the database: 62060\n"
     ]
    }
   ],
   "source": [
    "print(\"Number of movies in the database:\", movie_count)"
   ]
  },
  {
   "cell_type": "markdown",
   "id": "651092ed-dfd7-4d43-bb18-6d05d6f419fa",
   "metadata": {},
   "source": [
    "*counting PG-13 movies*"
   ]
  },
  {
   "cell_type": "code",
   "execution_count": 70,
   "id": "4bcc2c46-ff86-49de-a33c-f7e351fcd090",
   "metadata": {},
   "outputs": [],
   "source": [
    "PG13_count = spark.sql(\"SELECT COUNT(*) AS PG13_count FROM imdb_data WHERE rating='PG-13' \").collect()[0]['PG13_count']"
   ]
  },
  {
   "cell_type": "code",
   "execution_count": 71,
   "id": "995bb0a0-22fa-4066-996b-c0f682c32e7f",
   "metadata": {},
   "outputs": [
    {
     "name": "stdout",
     "output_type": "stream",
     "text": [
      "Number of PG-13 rated movies in the database: 3771\n"
     ]
    }
   ],
   "source": [
    "print(\"Number of PG-13 rated movies in the database:\", PG13_count)"
   ]
  },
  {
   "cell_type": "markdown",
   "id": "9be512ac-91bf-499b-9bbe-19c262fc2ea0",
   "metadata": {},
   "source": [
    "*votes statistics*"
   ]
  },
  {
   "cell_type": "code",
   "execution_count": 72,
   "id": "b06ce351-f5ea-4111-82a3-01f37f7ceba8",
   "metadata": {},
   "outputs": [],
   "source": [
    "votes_summary = imdb_df.select(\"votes\").describe()"
   ]
  },
  {
   "cell_type": "code",
   "execution_count": 73,
   "id": "dea077e8-29cc-4537-a674-11536d59519c",
   "metadata": {},
   "outputs": [
    {
     "name": "stdout",
     "output_type": "stream",
     "text": [
      "+-------+------------------+\n",
      "|summary|             votes|\n",
      "+-------+------------------+\n",
      "|  count|             62056|\n",
      "|   mean|161.04686499637202|\n",
      "| stddev|218.14851861026264|\n",
      "|    min|             1,000|\n",
      "|    max|           999,637|\n",
      "+-------+------------------+\n",
      "\n"
     ]
    }
   ],
   "source": [
    "votes_summary.show()"
   ]
  },
  {
   "cell_type": "markdown",
   "id": "be15c66c-73f5-40c5-9464-3f87d7860598",
   "metadata": {},
   "source": [
    "*counting the distinct values of genres column in descending order*"
   ]
  },
  {
   "cell_type": "markdown",
   "id": "c08617a5-2b3a-4c0b-a023-de2cb747fea6",
   "metadata": {},
   "source": [
    "I wrote a sparkSQL query that selects the genre column from the dataset and counts the occurences of the values of each genre based on a GROUP BY function\n",
    "and it sorts the countings from the most common one to te least"
   ]
  },
  {
   "cell_type": "code",
   "execution_count": 74,
   "id": "f518ff89-6bba-4675-a8f5-7eb986cd78c8",
   "metadata": {},
   "outputs": [],
   "source": [
    "genre_counts = spark.sql(\"SELECT genre, COUNT(*) AS genre_count FROM imdb_data GROUP BY genre ORDER BY genre_count desc\")"
   ]
  },
  {
   "cell_type": "code",
   "execution_count": 75,
   "id": "e155c5ef-3746-4902-88c3-e56bdae5f299",
   "metadata": {},
   "outputs": [
    {
     "name": "stdout",
     "output_type": "stream",
     "text": [
      "+--------------------+-----------+\n",
      "|               genre|genre_count|\n",
      "+--------------------+-----------+\n",
      "|             [Drama]|       8037|\n",
      "|            [Comedy]|       5153|\n",
      "|            [Horror]|       2677|\n",
      "|     [Comedy, Drama]|       2090|\n",
      "|    [Drama, Romance]|       1604|\n",
      "|   [Comedy, Romance]|       1497|\n",
      "|[Comedy, Drama, R...|       1341|\n",
      "|          [Thriller]|       1338|\n",
      "|                  []|       1252|\n",
      "|           [Western]|       1171|\n",
      "|  [Horror, Thriller]|       1045|\n",
      "|      [Crime, Drama]|        937|\n",
      "|   [Drama, Thriller]|        861|\n",
      "|            [Action]|        733|\n",
      "|[Crime, Drama, Th...|        639|\n",
      "|    [Comedy, Horror]|        629|\n",
      "|     [Action, Drama]|        488|\n",
      "|         [Adventure]|        405|\n",
      "|[Horror, Mystery,...|        398|\n",
      "|            [Sci-Fi]|        355|\n",
      "+--------------------+-----------+\n",
      "only showing top 20 rows\n",
      "\n"
     ]
    }
   ],
   "source": [
    "genre_counts.show()"
   ]
  },
  {
   "cell_type": "code",
   "execution_count": null,
   "id": "5d7f7085-5645-4250-aa46-dfd73177e520",
   "metadata": {},
   "outputs": [],
   "source": []
  },
  {
   "cell_type": "code",
   "execution_count": null,
   "id": "f95a39b5-66ea-4bc2-ac3c-2a7bf88d0392",
   "metadata": {},
   "outputs": [],
   "source": []
  },
  {
   "cell_type": "code",
   "execution_count": 39,
   "id": "117ab5b7-e7c5-4773-b565-c76b0faaa1fa",
   "metadata": {},
   "outputs": [],
   "source": [
    "spark.stop()"
   ]
  },
  {
   "cell_type": "code",
   "execution_count": null,
   "id": "6c1a6be6-c993-4cf7-8449-a8f1cbc71e50",
   "metadata": {},
   "outputs": [],
   "source": []
  }
 ],
 "metadata": {
  "kernelspec": {
   "display_name": "Python 3 (ipykernel)",
   "language": "python",
   "name": "python3"
  },
  "language_info": {
   "codemirror_mode": {
    "name": "ipython",
    "version": 3
   },
   "file_extension": ".py",
   "mimetype": "text/x-python",
   "name": "python",
   "nbconvert_exporter": "python",
   "pygments_lexer": "ipython3",
   "version": "3.11.5"
  }
 },
 "nbformat": 4,
 "nbformat_minor": 5
}
